{
 "cells": [
  {
   "cell_type": "code",
   "execution_count": 1,
   "id": "b6401ba0",
   "metadata": {
    "_cell_guid": "b1076dfc-b9ad-4769-8c92-a6c4dae69d19",
    "_uuid": "8f2839f25d086af736a60e9eeb907d3b93b6e0e5",
    "execution": {
     "iopub.execute_input": "2025-02-03T12:28:41.418001Z",
     "iopub.status.busy": "2025-02-03T12:28:41.417510Z",
     "iopub.status.idle": "2025-02-03T12:28:42.401153Z",
     "shell.execute_reply": "2025-02-03T12:28:42.399744Z"
    },
    "papermill": {
     "duration": 0.992688,
     "end_time": "2025-02-03T12:28:42.403138",
     "exception": false,
     "start_time": "2025-02-03T12:28:41.410450",
     "status": "completed"
    },
    "tags": []
   },
   "outputs": [
    {
     "name": "stdout",
     "output_type": "stream",
     "text": [
      "/kaggle/input/pm-75859731-at-02-03-2025-12-28-15/__script__.py\n",
      "/kaggle/input/pm-75859731-at-02-03-2025-12-28-15/__results__.html\n",
      "/kaggle/input/pm-75859731-at-02-03-2025-12-28-15/input_requirements.txt\n",
      "/kaggle/input/pm-75859731-at-02-03-2025-12-28-15/__script__.ipynb\n",
      "/kaggle/input/pm-75859731-at-02-03-2025-12-28-15/__output__.json\n",
      "/kaggle/input/pm-75859731-at-02-03-2025-12-28-15/custom.css\n",
      "/kaggle/input/equity-post-HCT-survival-predictions/sample_submission.csv\n",
      "/kaggle/input/equity-post-HCT-survival-predictions/data_dictionary.csv\n",
      "/kaggle/input/equity-post-HCT-survival-predictions/train.csv\n",
      "/kaggle/input/equity-post-HCT-survival-predictions/test.csv\n"
     ]
    }
   ],
   "source": [
    "# This Python 3 environment comes with many helpful analytics libraries installed\n",
    "# It is defined by the kaggle/python Docker image: https://github.com/kaggle/docker-python\n",
    "# For example, here's several helpful packages to load\n",
    "\n",
    "import numpy as np # linear algebra\n",
    "import pandas as pd # data processing, CSV file I/O (e.g. pd.read_csv)\n",
    "\n",
    "# Input data files are available in the read-only \"../input/\" directory\n",
    "# For example, running this (by clicking run or pressing Shift+Enter) will list all files under the input directory\n",
    "\n",
    "import os\n",
    "for dirname, _, filenames in os.walk('/kaggle/input'):\n",
    "    for filename in filenames:\n",
    "        print(os.path.join(dirname, filename))\n",
    "\n",
    "# You can write up to 20GB to the current directory (/kaggle/working/) that gets preserved as output when you create a version using \"Save & Run All\" \n",
    "# You can also write temporary files to /kaggle/temp/, but they won't be saved outside of the current session"
   ]
  },
  {
   "cell_type": "code",
   "execution_count": 2,
   "id": "b84bb45c",
   "metadata": {
    "execution": {
     "iopub.execute_input": "2025-02-03T12:28:42.415214Z",
     "iopub.status.busy": "2025-02-03T12:28:42.414683Z",
     "iopub.status.idle": "2025-02-03T12:28:51.345779Z",
     "shell.execute_reply": "2025-02-03T12:28:51.344616Z"
    },
    "papermill": {
     "duration": 8.939018,
     "end_time": "2025-02-03T12:28:51.347633",
     "exception": false,
     "start_time": "2025-02-03T12:28:42.408615",
     "status": "completed"
    },
    "tags": []
   },
   "outputs": [
    {
     "name": "stdout",
     "output_type": "stream",
     "text": [
      "Collecting lifelines\r\n",
      "  Downloading lifelines-0.30.0-py3-none-any.whl.metadata (3.2 kB)\r\n",
      "Requirement already satisfied: numpy>=1.14.0 in /usr/local/lib/python3.10/dist-packages (from lifelines) (1.26.4)\r\n",
      "Requirement already satisfied: scipy>=1.7.0 in /usr/local/lib/python3.10/dist-packages (from lifelines) (1.13.1)\r\n",
      "Requirement already satisfied: pandas>=2.1 in /usr/local/lib/python3.10/dist-packages (from lifelines) (2.2.2)\r\n",
      "Requirement already satisfied: matplotlib>=3.0 in /usr/local/lib/python3.10/dist-packages (from lifelines) (3.7.5)\r\n",
      "Requirement already satisfied: autograd>=1.5 in /usr/local/lib/python3.10/dist-packages (from lifelines) (1.7.0)\r\n",
      "Collecting autograd-gamma>=0.3 (from lifelines)\r\n",
      "  Downloading autograd-gamma-0.5.0.tar.gz (4.0 kB)\r\n",
      "  Preparing metadata (setup.py) ... \u001b[?25l\u001b[?25hdone\r\n",
      "Collecting formulaic>=0.2.2 (from lifelines)\r\n",
      "  Downloading formulaic-1.1.1-py3-none-any.whl.metadata (6.9 kB)\r\n",
      "Collecting interface-meta>=1.2.0 (from formulaic>=0.2.2->lifelines)\r\n",
      "  Downloading interface_meta-1.3.0-py3-none-any.whl.metadata (6.7 kB)\r\n",
      "Requirement already satisfied: typing-extensions>=4.2.0 in /usr/local/lib/python3.10/dist-packages (from formulaic>=0.2.2->lifelines) (4.12.2)\r\n",
      "Requirement already satisfied: wrapt>=1.0 in /usr/local/lib/python3.10/dist-packages (from formulaic>=0.2.2->lifelines) (1.17.0)\r\n",
      "Requirement already satisfied: contourpy>=1.0.1 in /usr/local/lib/python3.10/dist-packages (from matplotlib>=3.0->lifelines) (1.3.1)\r\n",
      "Requirement already satisfied: cycler>=0.10 in /usr/local/lib/python3.10/dist-packages (from matplotlib>=3.0->lifelines) (0.12.1)\r\n",
      "Requirement already satisfied: fonttools>=4.22.0 in /usr/local/lib/python3.10/dist-packages (from matplotlib>=3.0->lifelines) (4.55.3)\r\n",
      "Requirement already satisfied: kiwisolver>=1.0.1 in /usr/local/lib/python3.10/dist-packages (from matplotlib>=3.0->lifelines) (1.4.7)\r\n",
      "Requirement already satisfied: packaging>=20.0 in /usr/local/lib/python3.10/dist-packages (from matplotlib>=3.0->lifelines) (24.2)\r\n",
      "Requirement already satisfied: pillow>=6.2.0 in /usr/local/lib/python3.10/dist-packages (from matplotlib>=3.0->lifelines) (11.0.0)\r\n",
      "Requirement already satisfied: pyparsing>=2.3.1 in /usr/local/lib/python3.10/dist-packages (from matplotlib>=3.0->lifelines) (3.2.0)\r\n",
      "Requirement already satisfied: python-dateutil>=2.7 in /usr/local/lib/python3.10/dist-packages (from matplotlib>=3.0->lifelines) (2.8.2)\r\n",
      "Requirement already satisfied: mkl_fft in /usr/local/lib/python3.10/dist-packages (from numpy>=1.14.0->lifelines) (1.3.8)\r\n",
      "Requirement already satisfied: mkl_random in /usr/local/lib/python3.10/dist-packages (from numpy>=1.14.0->lifelines) (1.2.4)\r\n",
      "Requirement already satisfied: mkl_umath in /usr/local/lib/python3.10/dist-packages (from numpy>=1.14.0->lifelines) (0.1.1)\r\n",
      "Requirement already satisfied: mkl in /usr/local/lib/python3.10/dist-packages (from numpy>=1.14.0->lifelines) (2025.0.1)\r\n",
      "Requirement already satisfied: tbb4py in /usr/local/lib/python3.10/dist-packages (from numpy>=1.14.0->lifelines) (2022.0.0)\r\n",
      "Requirement already satisfied: mkl-service in /usr/local/lib/python3.10/dist-packages (from numpy>=1.14.0->lifelines) (2.4.1)\r\n",
      "Requirement already satisfied: pytz>=2020.1 in /usr/local/lib/python3.10/dist-packages (from pandas>=2.1->lifelines) (2024.2)\r\n",
      "Requirement already satisfied: tzdata>=2022.7 in /usr/local/lib/python3.10/dist-packages (from pandas>=2.1->lifelines) (2024.2)\r\n",
      "Requirement already satisfied: six>=1.5 in /usr/local/lib/python3.10/dist-packages (from python-dateutil>=2.7->matplotlib>=3.0->lifelines) (1.17.0)\r\n",
      "Requirement already satisfied: intel-openmp>=2024 in /usr/local/lib/python3.10/dist-packages (from mkl->numpy>=1.14.0->lifelines) (2024.2.0)\r\n",
      "Requirement already satisfied: tbb==2022.* in /usr/local/lib/python3.10/dist-packages (from mkl->numpy>=1.14.0->lifelines) (2022.0.0)\r\n",
      "Requirement already satisfied: tcmlib==1.* in /usr/local/lib/python3.10/dist-packages (from tbb==2022.*->mkl->numpy>=1.14.0->lifelines) (1.2.0)\r\n",
      "Requirement already satisfied: intel-cmplr-lib-rt in /usr/local/lib/python3.10/dist-packages (from mkl_umath->numpy>=1.14.0->lifelines) (2024.2.0)\r\n",
      "Requirement already satisfied: intel-cmplr-lib-ur==2024.2.0 in /usr/local/lib/python3.10/dist-packages (from intel-openmp>=2024->mkl->numpy>=1.14.0->lifelines) (2024.2.0)\r\n",
      "Downloading lifelines-0.30.0-py3-none-any.whl (349 kB)\r\n",
      "\u001b[2K   \u001b[90m━━━━━━━━━━━━━━━━━━━━━━━━━━━━━━━━━━━━━━━━\u001b[0m \u001b[32m349.3/349.3 kB\u001b[0m \u001b[31m8.5 MB/s\u001b[0m eta \u001b[36m0:00:00\u001b[0m\r\n",
      "\u001b[?25hDownloading formulaic-1.1.1-py3-none-any.whl (115 kB)\r\n",
      "\u001b[2K   \u001b[90m━━━━━━━━━━━━━━━━━━━━━━━━━━━━━━━━━━━━━━━━\u001b[0m \u001b[32m115.7/115.7 kB\u001b[0m \u001b[31m5.3 MB/s\u001b[0m eta \u001b[36m0:00:00\u001b[0m\r\n",
      "\u001b[?25hDownloading interface_meta-1.3.0-py3-none-any.whl (14 kB)\r\n",
      "Building wheels for collected packages: autograd-gamma\r\n",
      "  Building wheel for autograd-gamma (setup.py) ... \u001b[?25l\u001b[?25hdone\r\n",
      "  Created wheel for autograd-gamma: filename=autograd_gamma-0.5.0-py3-none-any.whl size=4031 sha256=3c9fd6705c8402332ff5fb911d4686ecd32b5b39466539d4903a202ce3b98677\r\n",
      "  Stored in directory: /root/.cache/pip/wheels/25/cc/e0/ef2969164144c899fedb22b338f6703e2b9cf46eeebf254991\r\n",
      "Successfully built autograd-gamma\r\n",
      "Installing collected packages: interface-meta, formulaic, autograd-gamma, lifelines\r\n",
      "Successfully installed autograd-gamma-0.5.0 formulaic-1.1.1 interface-meta-1.3.0 lifelines-0.30.0\r\n"
     ]
    }
   ],
   "source": [
    "!pip install lifelines"
   ]
  },
  {
   "cell_type": "code",
   "execution_count": 3,
   "id": "a671c253",
   "metadata": {
    "execution": {
     "iopub.execute_input": "2025-02-03T12:28:51.361127Z",
     "iopub.status.busy": "2025-02-03T12:28:51.360777Z",
     "iopub.status.idle": "2025-02-03T12:28:56.775289Z",
     "shell.execute_reply": "2025-02-03T12:28:56.774192Z"
    },
    "papermill": {
     "duration": 5.423467,
     "end_time": "2025-02-03T12:28:56.777355",
     "exception": false,
     "start_time": "2025-02-03T12:28:51.353888",
     "status": "completed"
    },
    "tags": []
   },
   "outputs": [],
   "source": [
    "# Importing Libraries\n",
    "import pandas as pd\n",
    "import numpy as np\n",
    "import lifelines\n",
    "from lifelines import KaplanMeierFitter, NelsonAalenFitter\n",
    "from xgboost import XGBRegressor\n",
    "from sklearn.preprocessing import MinMaxScaler\n",
    "from sklearn.model_selection import KFold, GridSearchCV\n",
    "from lifelines.utils import concordance_index\n",
    "import lightgbm as lgb\n",
    "from catboost import CatBoostRegressor\n",
    "import matplotlib.pyplot as plt\n",
    "import warnings\n",
    "warnings.filterwarnings('ignore')"
   ]
  },
  {
   "cell_type": "code",
   "execution_count": 4,
   "id": "c0a9ee53",
   "metadata": {
    "execution": {
     "iopub.execute_input": "2025-02-03T12:28:56.792161Z",
     "iopub.status.busy": "2025-02-03T12:28:56.791469Z",
     "iopub.status.idle": "2025-02-03T12:28:57.222222Z",
     "shell.execute_reply": "2025-02-03T12:28:57.221096Z"
    },
    "papermill": {
     "duration": 0.440331,
     "end_time": "2025-02-03T12:28:57.224197",
     "exception": false,
     "start_time": "2025-02-03T12:28:56.783866",
     "status": "completed"
    },
    "tags": []
   },
   "outputs": [],
   "source": [
    "# Reading training and testing files\n",
    "df_train = pd.read_csv('/kaggle/input/equity-post-HCT-survival-predictions/train.csv')\n",
    "df_test = pd.read_csv('/kaggle/input/equity-post-HCT-survival-predictions/test.csv')"
   ]
  },
  {
   "cell_type": "code",
   "execution_count": 5,
   "id": "3e4095e3",
   "metadata": {
    "execution": {
     "iopub.execute_input": "2025-02-03T12:28:57.237610Z",
     "iopub.status.busy": "2025-02-03T12:28:57.237195Z",
     "iopub.status.idle": "2025-02-03T12:28:57.270257Z",
     "shell.execute_reply": "2025-02-03T12:28:57.269056Z"
    },
    "papermill": {
     "duration": 0.041788,
     "end_time": "2025-02-03T12:28:57.272129",
     "exception": false,
     "start_time": "2025-02-03T12:28:57.230341",
     "status": "completed"
    },
    "tags": []
   },
   "outputs": [
    {
     "name": "stdout",
     "output_type": "stream",
     "text": [
      "Training Data:\n",
      "   ID                       dri_score psych_disturb    cyto_score diabetes  \\\n",
      "0   0  N/A - non-malignant indication            No           NaN       No   \n",
      "1   1                    Intermediate            No  Intermediate       No   \n",
      "2   2  N/A - non-malignant indication            No           NaN       No   \n",
      "3   3                            High            No  Intermediate       No   \n",
      "4   4                            High            No           NaN       No   \n",
      "\n",
      "   hla_match_c_high  hla_high_res_8          tbi_status arrhythmia  \\\n",
      "0               NaN             NaN              No TBI         No   \n",
      "1               2.0             8.0  TBI +- Other, >cGy         No   \n",
      "2               2.0             8.0              No TBI         No   \n",
      "3               2.0             8.0              No TBI         No   \n",
      "4               2.0             8.0              No TBI         No   \n",
      "\n",
      "   hla_low_res_6  ...          tce_div_match donor_related  \\\n",
      "0            6.0  ...                    NaN     Unrelated   \n",
      "1            6.0  ...  Permissive mismatched       Related   \n",
      "2            6.0  ...  Permissive mismatched       Related   \n",
      "3            6.0  ...  Permissive mismatched     Unrelated   \n",
      "4            6.0  ...  Permissive mismatched       Related   \n",
      "\n",
      "       melphalan_dose hla_low_res_8 cardiac  hla_match_drb1_high  \\\n",
      "0  N/A, Mel not given           8.0      No                  2.0   \n",
      "1  N/A, Mel not given           8.0      No                  2.0   \n",
      "2  N/A, Mel not given           8.0      No                  2.0   \n",
      "3  N/A, Mel not given           8.0      No                  2.0   \n",
      "4                 MEL           8.0      No                  2.0   \n",
      "\n",
      "  pulm_moderate  hla_low_res_10  efs efs_time  \n",
      "0            No            10.0  0.0   42.356  \n",
      "1           Yes            10.0  1.0    4.672  \n",
      "2            No            10.0  0.0   19.793  \n",
      "3            No            10.0  0.0  102.349  \n",
      "4            No            10.0  0.0   16.223  \n",
      "\n",
      "[5 rows x 60 columns]\n"
     ]
    }
   ],
   "source": [
    "# Print the first few rows of the training data\n",
    "print(\"Training Data:\")\n",
    "print(df_train.head())"
   ]
  },
  {
   "cell_type": "code",
   "execution_count": 6,
   "id": "025feb70",
   "metadata": {
    "execution": {
     "iopub.execute_input": "2025-02-03T12:28:57.285747Z",
     "iopub.status.busy": "2025-02-03T12:28:57.285391Z",
     "iopub.status.idle": "2025-02-03T12:28:57.291157Z",
     "shell.execute_reply": "2025-02-03T12:28:57.290133Z"
    },
    "papermill": {
     "duration": 0.014472,
     "end_time": "2025-02-03T12:28:57.292829",
     "exception": false,
     "start_time": "2025-02-03T12:28:57.278357",
     "status": "completed"
    },
    "tags": []
   },
   "outputs": [
    {
     "name": "stdout",
     "output_type": "stream",
     "text": [
      "\n",
      "Training Data Shape: (28800, 60)\n",
      "Testing Data Shape: (3, 58)\n"
     ]
    }
   ],
   "source": [
    "# Print the shape of the training and testing data\n",
    "print(\"\\nTraining Data Shape:\", df_train.shape)\n",
    "print(\"Testing Data Shape:\", df_test.shape)"
   ]
  },
  {
   "cell_type": "code",
   "execution_count": 7,
   "id": "7ee7c27f",
   "metadata": {
    "execution": {
     "iopub.execute_input": "2025-02-03T12:28:57.306471Z",
     "iopub.status.busy": "2025-02-03T12:28:57.306135Z",
     "iopub.status.idle": "2025-02-03T12:28:57.310481Z",
     "shell.execute_reply": "2025-02-03T12:28:57.309325Z"
    },
    "papermill": {
     "duration": 0.013155,
     "end_time": "2025-02-03T12:28:57.312108",
     "exception": false,
     "start_time": "2025-02-03T12:28:57.298953",
     "status": "completed"
    },
    "tags": []
   },
   "outputs": [],
   "source": [
    "# Categorical and Numerical Columns\n",
    "cat_cols = []\n",
    "num_cols = []"
   ]
  },
  {
   "cell_type": "code",
   "execution_count": 8,
   "id": "2924e03a",
   "metadata": {
    "execution": {
     "iopub.execute_input": "2025-02-03T12:28:57.325705Z",
     "iopub.status.busy": "2025-02-03T12:28:57.325310Z",
     "iopub.status.idle": "2025-02-03T12:28:57.333475Z",
     "shell.execute_reply": "2025-02-03T12:28:57.332345Z"
    },
    "papermill": {
     "duration": 0.016876,
     "end_time": "2025-02-03T12:28:57.335219",
     "exception": false,
     "start_time": "2025-02-03T12:28:57.318343",
     "status": "completed"
    },
    "tags": []
   },
   "outputs": [],
   "source": [
    "for col in df_train.columns:\n",
    "    if df_train[col].dtypes == 'object' and col not in ('efs', 'efs_time'):\n",
    "        cat_cols.append(col)\n",
    "    elif df_train[col].dtypes != 'object' and col not in ('efs', 'efs_time', 'ID'):\n",
    "        num_cols.append(col)"
   ]
  },
  {
   "cell_type": "code",
   "execution_count": 9,
   "id": "23015a1d",
   "metadata": {
    "execution": {
     "iopub.execute_input": "2025-02-03T12:28:57.349402Z",
     "iopub.status.busy": "2025-02-03T12:28:57.348960Z",
     "iopub.status.idle": "2025-02-03T12:28:57.355465Z",
     "shell.execute_reply": "2025-02-03T12:28:57.354548Z"
    },
    "papermill": {
     "duration": 0.015552,
     "end_time": "2025-02-03T12:28:57.357006",
     "exception": false,
     "start_time": "2025-02-03T12:28:57.341454",
     "status": "completed"
    },
    "tags": []
   },
   "outputs": [
    {
     "name": "stdout",
     "output_type": "stream",
     "text": [
      "\n",
      "Number of categorical columns: 35\n",
      "Number of numerical columns: 22\n"
     ]
    }
   ],
   "source": [
    "print(\"\\nNumber of categorical columns:\", len(cat_cols))\n",
    "print(\"Number of numerical columns:\", len(num_cols))"
   ]
  },
  {
   "cell_type": "code",
   "execution_count": 10,
   "id": "3a59da37",
   "metadata": {
    "execution": {
     "iopub.execute_input": "2025-02-03T12:28:57.371754Z",
     "iopub.status.busy": "2025-02-03T12:28:57.371428Z",
     "iopub.status.idle": "2025-02-03T12:28:57.500489Z",
     "shell.execute_reply": "2025-02-03T12:28:57.499611Z"
    },
    "papermill": {
     "duration": 0.137882,
     "end_time": "2025-02-03T12:28:57.502394",
     "exception": false,
     "start_time": "2025-02-03T12:28:57.364512",
     "status": "completed"
    },
    "tags": []
   },
   "outputs": [],
   "source": [
    "# Convert categorical columns to 'category' type\n",
    "for col in df_train.select_dtypes(include='object').columns:\n",
    "    df_train[col] = df_train[col].astype('category')\n",
    "\n",
    "for col in df_test.select_dtypes(include='object').columns:\n",
    "    df_test[col] = df_test[col].astype('category')\n",
    "\n"
   ]
  },
  {
   "cell_type": "code",
   "execution_count": 11,
   "id": "429bfc87",
   "metadata": {
    "execution": {
     "iopub.execute_input": "2025-02-03T12:28:57.516168Z",
     "iopub.status.busy": "2025-02-03T12:28:57.515791Z",
     "iopub.status.idle": "2025-02-03T12:28:57.599210Z",
     "shell.execute_reply": "2025-02-03T12:28:57.597994Z"
    },
    "papermill": {
     "duration": 0.092478,
     "end_time": "2025-02-03T12:28:57.601102",
     "exception": false,
     "start_time": "2025-02-03T12:28:57.508624",
     "status": "completed"
    },
    "tags": []
   },
   "outputs": [],
   "source": [
    "# Making Target variable using KaplanMeierFitter (kmf) and NelsonAalenFitter (naf)\n",
    "kmf = KaplanMeierFitter()\n",
    "kmf.fit(df_train['efs_time'], df_train['efs'])\n",
    "\n",
    "df_train['y_kmf'] = kmf.survival_function_at_times(df_train['efs_time']).values\n",
    "df_train.loc[df_train['efs'] == 0, 'y_kmf'] -= 0.1"
   ]
  },
  {
   "cell_type": "code",
   "execution_count": 12,
   "id": "0f1afbf9",
   "metadata": {
    "execution": {
     "iopub.execute_input": "2025-02-03T12:28:57.614809Z",
     "iopub.status.busy": "2025-02-03T12:28:57.614469Z",
     "iopub.status.idle": "2025-02-03T12:28:57.662771Z",
     "shell.execute_reply": "2025-02-03T12:28:57.661403Z"
    },
    "papermill": {
     "duration": 0.057322,
     "end_time": "2025-02-03T12:28:57.664759",
     "exception": false,
     "start_time": "2025-02-03T12:28:57.607437",
     "status": "completed"
    },
    "tags": []
   },
   "outputs": [],
   "source": [
    "# NelsonAalenFitter\n",
    "naf = NelsonAalenFitter()\n",
    "naf.fit(df_train['efs_time'], df_train['efs'])\n",
    "\n",
    "df_train['y_naf'] = -naf.cumulative_hazard_at_times(df_train['efs_time']).values\n",
    "df_train.loc[df_train['efs'] == 0, 'y_naf'] -= 0.1"
   ]
  },
  {
   "cell_type": "code",
   "execution_count": 13,
   "id": "9da74ff1",
   "metadata": {
    "execution": {
     "iopub.execute_input": "2025-02-03T12:28:57.678875Z",
     "iopub.status.busy": "2025-02-03T12:28:57.678541Z",
     "iopub.status.idle": "2025-02-03T12:28:58.156558Z",
     "shell.execute_reply": "2025-02-03T12:28:58.155527Z"
    },
    "papermill": {
     "duration": 0.487008,
     "end_time": "2025-02-03T12:28:58.158433",
     "exception": false,
     "start_time": "2025-02-03T12:28:57.671425",
     "status": "completed"
    },
    "tags": []
   },
   "outputs": [
    {
     "data": {
      "image/png": "[encoded data removed]",
      "text/plain": [
       "<Figure size 1000x600 with 1 Axes>"
      ]
     },
     "metadata": {},
     "output_type": "display_data"
    }
   ],
   "source": [
    "# Plot Kaplan-Meier Survival Curve\n",
    "plt.figure(figsize=(10, 6))\n",
    "kmf.plot_survival_function()\n",
    "plt.title('Kaplan-Meier Survival Curve')\n",
    "plt.xlabel('Time')\n",
    "plt.ylabel('Survival Probability')\n",
    "plt.show()"
   ]
  },
  {
   "cell_type": "code",
   "execution_count": 14,
   "id": "f00d299a",
   "metadata": {
    "execution": {
     "iopub.execute_input": "2025-02-03T12:28:58.174082Z",
     "iopub.status.busy": "2025-02-03T12:28:58.173587Z",
     "iopub.status.idle": "2025-02-03T12:28:58.178083Z",
     "shell.execute_reply": "2025-02-03T12:28:58.177136Z"
    },
    "papermill": {
     "duration": 0.014237,
     "end_time": "2025-02-03T12:28:58.179752",
     "exception": false,
     "start_time": "2025-02-03T12:28:58.165515",
     "status": "completed"
    },
    "tags": []
   },
   "outputs": [],
   "source": [
    "# Cross Validations\n",
    "kf = KFold(n_splits=5, shuffle=True, random_state=42)"
   ]
  },
  {
   "cell_type": "code",
   "execution_count": 15,
   "id": "561438f2",
   "metadata": {
    "execution": {
     "iopub.execute_input": "2025-02-03T12:28:58.195025Z",
     "iopub.status.busy": "2025-02-03T12:28:58.194586Z",
     "iopub.status.idle": "2025-02-03T12:28:58.201406Z",
     "shell.execute_reply": "2025-02-03T12:28:58.200033Z"
    },
    "papermill": {
     "duration": 0.016466,
     "end_time": "2025-02-03T12:28:58.203302",
     "exception": false,
     "start_time": "2025-02-03T12:28:58.186836",
     "status": "completed"
    },
    "tags": []
   },
   "outputs": [],
   "source": [
    "# Model Parameters\n",
    "xgb_kmf_final_param = {\n",
    "    'booster': 'gbtree',\n",
    "    'enable_categorical': True,\n",
    "    'learning_rate': 0.02,\n",
    "    'max_depth': 2,\n",
    "    'n_estimators': 5000,\n",
    "    'objective': 'reg:squarederror',\n",
    "    'random_state': 42,\n",
    "    'reg_lambda': 0.015\n",
    "}\n",
    "\n",
    "xgb_naf_final_param = {\n",
    "    'booster': 'gbtree',\n",
    "    'enable_categorical': True,\n",
    "    'learning_rate': 0.01,\n",
    "    'max_depth': 2,\n",
    "    'n_estimators': 10000,\n",
    "    'objective': 'reg:squarederror',\n",
    "    'random_state': 42,\n",
    "    'reg_lambda': 0.1\n",
    "}\n",
    "\n",
    "lgbm_final_param_kmf = {\n",
    "    'max_depth': 2,\n",
    "    'learning_rate': 0.03,\n",
    "    'n_estimators': 4000,\n",
    "    'reg_lambda': 0.001,\n",
    "    'random_state': 42,\n",
    "    'verbose': -1\n",
    "}\n",
    "\n",
    "lgbm_final_param_naf = {\n",
    "    'max_depth': 3,\n",
    "    'learning_rate': 0.03,\n",
    "    'n_estimators': 2000,\n",
    "    'reg_lambda': 0.02,\n",
    "    'random_state': 42,\n",
    "    'verbose': -1\n",
    "}\n",
    "\n",
    "cb_param_kmf = {\n",
    "    'bootstrap_type': 'Bernoulli',\n",
    "    'learning_rate': 0.03,\n",
    "    'num_trees': 8000,\n",
    "    'subsample': 0.85,\n",
    "    'reg_lambda': 8.0,\n",
    "    'depth': 8,\n",
    "    'verbose': 2000\n",
    "}"
   ]
  },
  {
   "cell_type": "code",
   "execution_count": 16,
   "id": "95c82189",
   "metadata": {
    "execution": {
     "iopub.execute_input": "2025-02-03T12:28:58.218750Z",
     "iopub.status.busy": "2025-02-03T12:28:58.218365Z",
     "iopub.status.idle": "2025-02-03T14:15:11.730642Z",
     "shell.execute_reply": "2025-02-03T14:15:11.728314Z"
    },
    "papermill": {
     "duration": 6373.522494,
     "end_time": "2025-02-03T14:15:11.732802",
     "exception": false,
     "start_time": "2025-02-03T12:28:58.210308",
     "status": "completed"
    },
    "tags": []
   },
   "outputs": [
    {
     "name": "stdout",
     "output_type": "stream",
     "text": [
      "0:\tlearn: 0.2163401\ttotal: 217ms\tremaining: 28m 59s\n",
      "2000:\tlearn: 0.1557444\ttotal: 5m 1s\tremaining: 15m 5s\n",
      "4000:\tlearn: 0.1285597\ttotal: 10m 7s\tremaining: 10m 6s\n",
      "6000:\tlearn: 0.1063466\ttotal: 15m 15s\tremaining: 5m 4s\n",
      "7999:\tlearn: 0.0885401\ttotal: 20m 23s\tremaining: 0us\n",
      "Fold #0 C-index: 0.6927430162651337\n",
      "0:\tlearn: 0.2157997\ttotal: 141ms\tremaining: 18m 50s\n",
      "2000:\tlearn: 0.1545663\ttotal: 4m 59s\tremaining: 14m 56s\n",
      "4000:\tlearn: 0.1266179\ttotal: 10m 8s\tremaining: 10m 8s\n",
      "6000:\tlearn: 0.1044971\ttotal: 15m 17s\tremaining: 5m 5s\n",
      "7999:\tlearn: 0.0870146\ttotal: 20m 25s\tremaining: 0us\n",
      "Fold #1 C-index: 0.6902903499860925\n",
      "0:\tlearn: 0.2164439\ttotal: 140ms\tremaining: 18m 43s\n",
      "2000:\tlearn: 0.1546654\ttotal: 4m 57s\tremaining: 14m 52s\n",
      "4000:\tlearn: 0.1275951\ttotal: 10m 5s\tremaining: 10m 5s\n",
      "6000:\tlearn: 0.1055190\ttotal: 15m 16s\tremaining: 5m 5s\n",
      "7999:\tlearn: 0.0872556\ttotal: 20m 28s\tremaining: 0us\n",
      "Fold #2 C-index: 0.6923251275900073\n",
      "0:\tlearn: 0.2160424\ttotal: 142ms\tremaining: 18m 56s\n",
      "2000:\tlearn: 0.1528426\ttotal: 5m 1s\tremaining: 15m 3s\n",
      "4000:\tlearn: 0.1255355\ttotal: 10m 8s\tremaining: 10m 7s\n",
      "6000:\tlearn: 0.1038959\ttotal: 15m 17s\tremaining: 5m 5s\n",
      "7999:\tlearn: 0.0866953\ttotal: 20m 29s\tremaining: 0us\n",
      "Fold #3 C-index: 0.6839880789313437\n",
      "0:\tlearn: 0.2163563\ttotal: 141ms\tremaining: 18m 47s\n",
      "2000:\tlearn: 0.1542185\ttotal: 5m\tremaining: 14m 59s\n",
      "4000:\tlearn: 0.1265588\ttotal: 10m 8s\tremaining: 10m 7s\n",
      "6000:\tlearn: 0.1045068\ttotal: 15m 19s\tremaining: 5m 6s\n",
      "7999:\tlearn: 0.0870198\ttotal: 20m 35s\tremaining: 0us\n",
      "Fold #4 C-index: 0.6813362454184174\n",
      "\n",
      "Mean Concordance index (using XGB & LGBM): 0.6881365636381989\n"
     ]
    }
   ],
   "source": [
    "# Cross-Validation Loop\n",
    "all_preds = []\n",
    "all_efs = []\n",
    "all_efs_time = []\n",
    "scores = []\n",
    "\n",
    "for i, (train_indexes, val_indexes) in enumerate(kf.split(df_train)):\n",
    "    train_data = df_train.iloc[train_indexes]\n",
    "    val_data = df_train.iloc[val_indexes]\n",
    "    train_data_cb = df_train.iloc[train_indexes]\n",
    "    val_data_cb = df_train.iloc[val_indexes]\n",
    "\n",
    "    for col in train_data_cb.select_dtypes(include='category').columns:\n",
    "        train_data_cb[col] = train_data_cb[col].astype('str')\n",
    "\n",
    "    for col in val_data_cb.select_dtypes(include='category').columns:\n",
    "        val_data_cb[col] = val_data_cb[col].astype('str')\n",
    "\n",
    "    cat_cols = train_data.drop(columns=['ID', 'efs', 'efs_time', 'y_kmf', 'y_naf']).select_dtypes(include='category').columns.values.tolist()\n",
    "    cat_cols_cb = train_data_cb.drop(columns=['ID', 'efs', 'efs_time', 'y_kmf', 'y_naf']).select_dtypes(include='object').columns.values.tolist()\n",
    "\n",
    "    xgb_kmf = XGBRegressor(**xgb_kmf_final_param)\n",
    "    xgb_kmf.fit(train_data.drop(columns=['ID', 'efs', 'efs_time', 'y_kmf', 'y_naf']), train_data['y_kmf'])\n",
    "\n",
    "    xgb_naf = XGBRegressor(**xgb_naf_final_param)\n",
    "    xgb_naf.fit(train_data.drop(columns=['ID', 'efs', 'efs_time', 'y_kmf', 'y_naf']), train_data['y_naf'])\n",
    "\n",
    "    lgbm_kmf = lgb.LGBMRegressor(**lgbm_final_param_kmf)\n",
    "    lgbm_kmf.fit(train_data.drop(columns=['ID', 'efs', 'efs_time', 'y_kmf', 'y_naf']), train_data['y_kmf'])\n",
    "\n",
    "    lgbm_naf = lgb.LGBMRegressor(**lgbm_final_param_naf)\n",
    "    lgbm_naf.fit(train_data.drop(columns=['ID', 'efs', 'efs_time', 'y_kmf', 'y_naf']), train_data['y_naf'])\n",
    "\n",
    "    cb_kmf = CatBoostRegressor(**cb_param_kmf)\n",
    "    cb_kmf.fit(train_data_cb.drop(columns=['ID', 'efs', 'efs_time', 'y_kmf', 'y_naf']), train_data['y_kmf'], cat_features=cat_cols_cb)\n",
    "\n",
    "    preds_xgb_kmf = xgb_kmf.predict(val_data.drop(columns=['ID', 'efs', 'efs_time', 'y_kmf', 'y_naf']))\n",
    "    preds_xgb_naf = xgb_naf.predict(val_data.drop(columns=['ID', 'efs', 'efs_time', 'y_kmf', 'y_naf']))\n",
    "    preds_lgbm_kmf = lgbm_kmf.predict(val_data.drop(columns=['ID', 'efs', 'efs_time', 'y_kmf', 'y_naf']))\n",
    "    preds_lgbm_naf = lgbm_naf.predict(val_data.drop(columns=['ID', 'efs', 'efs_time', 'y_kmf', 'y_naf']))\n",
    "    preds_cb_kmf = cb_kmf.predict(val_data_cb.drop(columns=['ID', 'efs', 'efs_time', 'y_kmf', 'y_naf']))\n",
    "\n",
    "    preds = (preds_xgb_kmf + preds_xgb_naf + preds_lgbm_kmf + preds_lgbm_naf + preds_cb_kmf) / 5\n",
    "\n",
    "    all_preds += list(preds)\n",
    "    score = concordance_index(val_data['efs_time'], -preds, val_data['efs'])\n",
    "    scores.append(score)\n",
    "\n",
    "    print(f'Fold #{i} C-index: {score}')\n",
    "\n",
    "print(\"\\nMean Concordance index (using XGB & LGBM):\", sum(scores) / len(scores))"
   ]
  },
  {
   "cell_type": "code",
   "execution_count": 17,
   "id": "6f16b4c2",
   "metadata": {
    "execution": {
     "iopub.execute_input": "2025-02-03T14:15:11.752604Z",
     "iopub.status.busy": "2025-02-03T14:15:11.752019Z",
     "iopub.status.idle": "2025-02-03T14:39:38.768876Z",
     "shell.execute_reply": "2025-02-03T14:39:38.767792Z"
    },
    "papermill": {
     "duration": 1467.029124,
     "end_time": "2025-02-03T14:39:38.770681",
     "exception": false,
     "start_time": "2025-02-03T14:15:11.741557",
     "status": "completed"
    },
    "tags": []
   },
   "outputs": [
    {
     "name": "stdout",
     "output_type": "stream",
     "text": [
      "0:\tlearn: 0.2162603\ttotal: 102ms\tremaining: 13m 38s\n",
      "2000:\tlearn: 0.1588496\ttotal: 5m 48s\tremaining: 17m 23s\n",
      "4000:\tlearn: 0.1347857\ttotal: 11m 42s\tremaining: 11m 42s\n",
      "6000:\tlearn: 0.1150243\ttotal: 17m 38s\tremaining: 5m 52s\n",
      "7999:\tlearn: 0.0986913\ttotal: 23m 34s\tremaining: 0us\n"
     ]
    },
    {
     "data": {
      "text/plain": [
       "<catboost.core.CatBoostRegressor at 0x7f47da6f0910>"
      ]
     },
     "execution_count": 17,
     "metadata": {},
     "output_type": "execute_result"
    }
   ],
   "source": [
    "# Final Prediction\n",
    "xgb_kmf = XGBRegressor(**xgb_kmf_final_param)\n",
    "xgb_kmf.fit(df_train.drop(columns=['ID', 'efs', 'efs_time', 'y_kmf', 'y_naf']), df_train['y_kmf'])\n",
    "\n",
    "xgb_naf = XGBRegressor(**xgb_naf_final_param)\n",
    "xgb_naf.fit(df_train.drop(columns=['ID', 'efs', 'efs_time', 'y_kmf', 'y_naf']), df_train['y_naf'])\n",
    "\n",
    "lgbm_kmf = lgb.LGBMRegressor(**lgbm_final_param_kmf)\n",
    "lgbm_kmf.fit(df_train.drop(columns=['ID', 'efs', 'efs_time', 'y_kmf', 'y_naf']), df_train['y_kmf'])\n",
    "\n",
    "lgbm_naf = lgb.LGBMRegressor(**lgbm_final_param_naf)\n",
    "lgbm_naf.fit(df_train.drop(columns=['ID', 'efs', 'efs_time', 'y_kmf', 'y_naf']), df_train['y_naf'])\n",
    "\n",
    "X_train_cb = df_train.copy()\n",
    "for col in X_train_cb.select_dtypes(include='category').columns:\n",
    "    X_train_cb[col] = X_train_cb[col].astype('str')\n",
    "\n",
    "X_test_cb = df_test.copy()\n",
    "for col in X_test_cb.select_dtypes(include='category').columns:\n",
    "    X_test_cb[col] = X_test_cb[col].astype('str')\n",
    "\n",
    "cat_cols_cb = X_train_cb.drop(columns=['ID', 'efs', 'efs_time', 'y_kmf', 'y_naf']).select_dtypes(include='object').columns.values.tolist()\n",
    "\n",
    "cb_kmf = CatBoostRegressor(**cb_param_kmf)\n",
    "cb_kmf.fit(X_train_cb.drop(columns=['ID', 'efs', 'efs_time', 'y_kmf', 'y_naf']), X_train_cb['y_kmf'], cat_features=cat_cols_cb)\n"
   ]
  },
  {
   "cell_type": "code",
   "execution_count": 18,
   "id": "aa53f5df",
   "metadata": {
    "execution": {
     "iopub.execute_input": "2025-02-03T14:39:38.790079Z",
     "iopub.status.busy": "2025-02-03T14:39:38.789679Z",
     "iopub.status.idle": "2025-02-03T14:39:38.937493Z",
     "shell.execute_reply": "2025-02-03T14:39:38.936529Z"
    },
    "papermill": {
     "duration": 0.159768,
     "end_time": "2025-02-03T14:39:38.939613",
     "exception": false,
     "start_time": "2025-02-03T14:39:38.779845",
     "status": "completed"
    },
    "tags": []
   },
   "outputs": [],
   "source": [
    "preds_xgb_kmf = xgb_kmf.predict(df_test.drop(columns=['ID']))\n",
    "preds_xgb_naf = xgb_naf.predict(df_test.drop(columns=['ID']))\n",
    "preds_lgbm_kmf = lgbm_kmf.predict(df_test.drop(columns=['ID']))\n",
    "preds_lgbm_naf = lgbm_naf.predict(df_test.drop(columns=['ID']))\n",
    "preds_cb_kmf = cb_kmf.predict(X_test_cb.drop(columns=['ID']))\n",
    "\n",
    "final_prediction = (preds_xgb_kmf + preds_xgb_naf + preds_lgbm_kmf + preds_lgbm_naf + preds_cb_kmf) / 5"
   ]
  },
  {
   "cell_type": "code",
   "execution_count": 19,
   "id": "caca5b1c",
   "metadata": {
    "execution": {
     "iopub.execute_input": "2025-02-03T14:39:38.959684Z",
     "iopub.status.busy": "2025-02-03T14:39:38.959320Z",
     "iopub.status.idle": "2025-02-03T14:39:38.964369Z",
     "shell.execute_reply": "2025-02-03T14:39:38.963332Z"
    },
    "papermill": {
     "duration": 0.01704,
     "end_time": "2025-02-03T14:39:38.966070",
     "exception": false,
     "start_time": "2025-02-03T14:39:38.949030",
     "status": "completed"
    },
    "tags": []
   },
   "outputs": [],
   "source": [
    "df_test['prediction'] = final_prediction\n",
    "\n"
   ]
  },
  {
   "cell_type": "code",
   "execution_count": 20,
   "id": "ce87e5b6",
   "metadata": {
    "execution": {
     "iopub.execute_input": "2025-02-03T14:39:38.985478Z",
     "iopub.status.busy": "2025-02-03T14:39:38.985126Z",
     "iopub.status.idle": "2025-02-03T14:39:39.018547Z",
     "shell.execute_reply": "2025-02-03T14:39:39.017464Z"
    },
    "papermill": {
     "duration": 0.045854,
     "end_time": "2025-02-03T14:39:39.020710",
     "exception": false,
     "start_time": "2025-02-03T14:39:38.974856",
     "status": "completed"
    },
    "tags": []
   },
   "outputs": [
    {
     "name": "stdout",
     "output_type": "stream",
     "text": [
      "Sub shape: (3, 2)\n"
     ]
    },
    {
     "data": {
      "text/html": [
       "<div>\n",
       "<style scoped>\n",
       "    .dataframe tbody tr th:only-of-type {\n",
       "        vertical-align: middle;\n",
       "    }\n",
       "\n",
       "    .dataframe tbody tr th {\n",
       "        vertical-align: top;\n",
       "    }\n",
       "\n",
       "    .dataframe thead th {\n",
       "        text-align: right;\n",
       "    }\n",
       "</style>\n",
       "<table border=\"1\" class=\"dataframe\">\n",
       "  <thead>\n",
       "    <tr style=\"text-align: right;\">\n",
       "      <th></th>\n",
       "      <th>ID</th>\n",
       "      <th>prediction</th>\n",
       "    </tr>\n",
       "  </thead>\n",
       "  <tbody>\n",
       "    <tr>\n",
       "      <th>0</th>\n",
       "      <td>28800</td>\n",
       "      <td>-0.065745</td>\n",
       "    </tr>\n",
       "    <tr>\n",
       "      <th>1</th>\n",
       "      <td>28801</td>\n",
       "      <td>0.224319</td>\n",
       "    </tr>\n",
       "    <tr>\n",
       "      <th>2</th>\n",
       "      <td>28802</td>\n",
       "      <td>-0.147253</td>\n",
       "    </tr>\n",
       "  </tbody>\n",
       "</table>\n",
       "</div>"
      ],
      "text/plain": [
       "      ID  prediction\n",
       "0  28800   -0.065745\n",
       "1  28801    0.224319\n",
       "2  28802   -0.147253"
      ]
     },
     "execution_count": 20,
     "metadata": {},
     "output_type": "execute_result"
    }
   ],
   "source": [
    "sub = df_test[['ID', 'prediction']]\n",
    "sub.to_csv('submission.csv', index=False)\n",
    "sub.to_csv('/kaggle/working/submission.csv', index=False)\n",
    "sub.to_csv(\"submission.csv\",index=False)\n",
    "print(\"Sub shape:\",sub.shape)\n",
    "sub.head()"
   ]
  },
  {
   "cell_type": "code",
   "execution_count": 21,
   "id": "cdef981a",
   "metadata": {
    "execution": {
     "iopub.execute_input": "2025-02-03T14:39:39.040282Z",
     "iopub.status.busy": "2025-02-03T14:39:39.039945Z",
     "iopub.status.idle": "2025-02-03T14:39:39.048808Z",
     "shell.execute_reply": "2025-02-03T14:39:39.047736Z"
    },
    "papermill": {
     "duration": 0.02052,
     "end_time": "2025-02-03T14:39:39.050277",
     "exception": false,
     "start_time": "2025-02-03T14:39:39.029757",
     "status": "completed"
    },
    "tags": []
   },
   "outputs": [
    {
     "name": "stdout",
     "output_type": "stream",
     "text": [
      "\n",
      "Final Report:\n",
      "Mean Concordance index (C-index): 0.6881365636381989\n",
      "\n",
      "Submission Data:\n",
      "      ID  prediction\n",
      "0  28800   -0.065745\n",
      "1  28801    0.224319\n",
      "2  28802   -0.147253\n"
     ]
    }
   ],
   "source": [
    "# Final Report\n",
    "print(\"\\nFinal Report:\")\n",
    "print(\"Mean Concordance index (C-index):\", sum(scores) / len(scores))\n",
    "print(\"\\nSubmission Data:\")\n",
    "print(sub.head())"
   ]
  },
  {
   "cell_type": "code",
   "execution_count": null,
   "id": "feff3aa8",
   "metadata": {
    "papermill": {
     "duration": 0.008975,
     "end_time": "2025-02-03T14:39:39.068532",
     "exception": false,
     "start_time": "2025-02-03T14:39:39.059557",
     "status": "completed"
    },
    "tags": []
   },
   "outputs": [],
   "source": []
  }
 ],
 "metadata": {
  "kaggle": {
   "accelerator": "none",
   "dataSources": [
    {
     "databundleVersionId": 10381525,
     "sourceId": 70942,
     "sourceType": "competition"
    }
   ],
   "isGpuEnabled": false,
   "isInternetEnabled": true,
   "language": "python",
   "sourceType": "notebook"
  },
  "kernelspec": {
   "display_name": "Python 3",
   "language": "python",
   "name": "python3"
  },
  "language_info": {
   "codemirror_mode": {
    "name": "ipython",
    "version": 3
   },
   "file_extension": ".py",
   "mimetype": "text/x-python",
   "name": "python",
   "nbconvert_exporter": "python",
   "pygments_lexer": "ipython3",
   "version": "3.10.12"
  },
  "papermill": {
   "default_parameters": {},
   "duration": 7861.838883,
   "end_time": "2025-02-03T14:39:40.411424",
   "environment_variables": {},
   "exception": null,
   "input_path": "__notebook__.ipynb",
   "output_path": "__notebook__.ipynb",
   "parameters": {},
   "start_time": "2025-02-03T12:28:38.572541",
   "version": "2.6.0"
  }
 },
 "nbformat": 4,
 "nbformat_minor": 5
}
